{
 "cells": [
  {
   "cell_type": "markdown",
   "metadata": {},
   "source": [
    "# lgb"
   ]
  },
  {
   "cell_type": "markdown",
   "metadata": {},
   "source": [
    "## max_depth\n",
    "***"
   ]
  },
  {
   "cell_type": "code",
   "execution_count": null,
   "metadata": {},
   "outputs": [],
   "source": [
    "color = ['r', 'b', 'g', 'y', 'k', 'm', 'gray']\n",
    "data1 = pd.read_csv('../results/single_model/final_results/lgb_fw_v0.2_c20_w35/lgb_t-209_c-656_nbr-100_lr-0.003_nl-88_mdp-9_ff-0.5_bf-0.8_bfq-2_mdb-5_result.csv')\n"
   ]
  },
  {
   "cell_type": "code",
   "execution_count": null,
   "metadata": {
    "scrolled": false
   },
   "outputs": [],
   "source": [
    "fig=plt.figure()\n",
    "ax=fig.add_subplot(1,1,1)\n",
    "ax.plot(data1['valid_loss'], color=color[0], label='v0.2_c20_w35')\n",
    "ax.legend(loc='best')\n",
    "# plt.ylim(0.6908, 0.6912)\n",
    "# plt.xlim(100, 150)\n",
    "fig.set_figheight(15)\n",
    "fig.set_figwidth(20)\n",
    "plt.show()"
   ]
  },
  {
   "cell_type": "code",
   "execution_count": null,
   "metadata": {
    "scrolled": false
   },
   "outputs": [],
   "source": [
    "fig=plt.figure()\n",
    "ax=fig.add_subplot(1,1,1)\n",
    "i_marker = -1\n",
    "i_color = 0\n",
    "for i, label in enumerate(labels):\n",
    "    if (i)%(len(param_values)) == 0:\n",
    "        i_marker += 1\n",
    "        i_color = 0\n",
    "    ax.plot(data[i]['train_loss'], color=color[i_color], label=label, marker=marker_list[i_marker])\n",
    "    i_color += 1\n",
    "ax.legend(loc='best')\n",
    "# plt.ylim(0.665, 0.680)\n",
    "# plt.xlim(100, 150)\n",
    "fig.set_figheight(15)\n",
    "fig.set_figwidth(20)\n",
    "plt.show()"
   ]
  },
  {
   "cell_type": "code",
   "execution_count": null,
   "metadata": {
    "collapsed": true
   },
   "outputs": [],
   "source": []
  }
 ],
 "metadata": {
  "kernelspec": {
   "display_name": "Python 3",
   "language": "python",
   "name": "python3"
  },
  "language_info": {
   "codemirror_mode": {
    "name": "ipython",
    "version": 3
   },
   "file_extension": ".py",
   "mimetype": "text/x-python",
   "name": "python",
   "nbconvert_exporter": "python",
   "pygments_lexer": "ipython3",
   "version": "3.6.2"
  }
 },
 "nbformat": 4,
 "nbformat_minor": 1
}
