{
 "cells": [
  {
   "cell_type": "code",
   "execution_count": 2,
   "metadata": {
    "collapsed": true
   },
   "outputs": [],
   "source": [
    "import numpy as np"
   ]
  },
  {
   "cell_type": "code",
   "execution_count": 45,
   "metadata": {},
   "outputs": [
    {
     "data": {
      "text/plain": [
       "array([[[1, 2, 3, 4]],\n",
       "\n",
       "       [[6, 3, 5, 2]],\n",
       "\n",
       "       [[3, 0, 2, 0]]])"
      ]
     },
     "execution_count": 45,
     "metadata": {},
     "output_type": "execute_result"
    }
   ],
   "source": [
    "a = np.array([[1, 2, 3, 4],\n",
    "              [6, 3, 5, 2],\n",
    "              [3, 0, 2, 0]]).reshape(-1, 1, 4)\n",
    "b = np.array([[3, 2, 8, 9],\n",
    "              [7, 9, 4, 4],\n",
    "              [3, 11, 5, 2]]).reshape(-1, 1, 4)\n",
    "a"
   ]
  },
  {
   "cell_type": "code",
   "execution_count": 46,
   "metadata": {},
   "outputs": [
    {
     "data": {
      "text/plain": [
       "array([[[ 1,  2,  3,  4],\n",
       "        [ 3,  2,  8,  9]],\n",
       "\n",
       "       [[ 6,  3,  5,  2],\n",
       "        [ 7,  9,  4,  4]],\n",
       "\n",
       "       [[ 3,  0,  2,  0],\n",
       "        [ 3, 11,  5,  2]]])"
      ]
     },
     "execution_count": 46,
     "metadata": {},
     "output_type": "execute_result"
    }
   ],
   "source": [
    "c = np.concatenate((a, b), axis=1)\n",
    "c"
   ]
  },
  {
   "cell_type": "code",
   "execution_count": 47,
   "metadata": {},
   "outputs": [
    {
     "data": {
      "text/plain": [
       "array([[ 1. ,  1. ,  4.5,  5.5],\n",
       "       [ 5.5,  5. ,  3.5,  2. ],\n",
       "       [ 2. ,  4.5,  2.5,  0. ]])"
      ]
     },
     "execution_count": 47,
     "metadata": {},
     "output_type": "execute_result"
    }
   ],
   "source": [
    "d = np.mean(c, axis=1)-1\n",
    "d"
   ]
  },
  {
   "cell_type": "code",
   "execution_count": 90,
   "metadata": {},
   "outputs": [
    {
     "data": {
      "text/plain": [
       "array([[3, 2, 1],\n",
       "       [0, 1, 2],\n",
       "       [1, 2, 0]])"
      ]
     },
     "execution_count": 90,
     "metadata": {},
     "output_type": "execute_result"
    }
   ],
   "source": [
    "np.argsort(d, axis=1)[:, :-4:-1]"
   ]
  },
  {
   "cell_type": "code",
   "execution_count": 117,
   "metadata": {},
   "outputs": [
    {
     "data": {
      "text/plain": [
       "[[2, 1, 8, 9, 6, 4, 7, 3], [6, 2, 1, 3, 1, 1, 1, 5], [3, 1, 1, 1, 1, 2, 0, 0]]"
      ]
     },
     "execution_count": 117,
     "metadata": {},
     "output_type": "execute_result"
    }
   ],
   "source": [
    "t = np.array([[1, 2, 3, 4, 6, 7, 8, 9],\n",
    "              [6, 3, 5, 2, 1, 1, 1 ,1],\n",
    "              [3, 0, 2, 0, 1, 1, 1, 1]])\n",
    "d = t.tolist()\n",
    "list(map(lambda x: np.random.shuffle(x), d))\n",
    "d"
   ]
  },
  {
   "cell_type": "code",
   "execution_count": 21,
   "metadata": {},
   "outputs": [
    {
     "data": {
      "text/plain": [
       "[[0.0], [0.0], [0.0], [0.0]]"
      ]
     },
     "execution_count": 21,
     "metadata": {},
     "output_type": "execute_result"
    }
   ],
   "source": [
    "a = np.zeros_like(np.array([1, 2, 3, 4]), dtype=np.float64).reshape(-1, 1).tolist()\n",
    "a"
   ]
  },
  {
   "cell_type": "code",
   "execution_count": 22,
   "metadata": {},
   "outputs": [
    {
     "data": {
      "text/plain": [
       "[[0.0, 0.80000000000000004],\n",
       " [0.0, 0.5],\n",
       " [0.0, 0.69999999999999996],\n",
       " [0.0, 0.59999999999999998]]"
      ]
     },
     "execution_count": 22,
     "metadata": {},
     "output_type": "execute_result"
    }
   ],
   "source": [
    "c = [1, 2, 0, 3]\n",
    "d = np.array([0.5, 0.7, 0.8, 0.6])\n",
    "\n",
    "for idx_era, prob_era in zip(c, d):\n",
    "    if a[idx_era] == 0.:\n",
    "        a[idx_era][0] = prob_era\n",
    "    else:\n",
    "        a[idx_era].append(prob_era)\n",
    "a"
   ]
  },
  {
   "cell_type": "code",
   "execution_count": 23,
   "metadata": {},
   "outputs": [
    {
     "data": {
      "text/plain": [
       "array([ 0.4 ,  0.25,  0.35,  0.3 ])"
      ]
     },
     "execution_count": 23,
     "metadata": {},
     "output_type": "execute_result"
    }
   ],
   "source": [
    "np.mean(a, axis=1)"
   ]
  },
  {
   "cell_type": "code",
   "execution_count": null,
   "metadata": {
    "collapsed": true
   },
   "outputs": [],
   "source": []
  }
 ],
 "metadata": {
  "kernelspec": {
   "display_name": "Python 3",
   "language": "python",
   "name": "python3"
  },
  "language_info": {
   "codemirror_mode": {
    "name": "ipython",
    "version": 3
   },
   "file_extension": ".py",
   "mimetype": "text/x-python",
   "name": "python",
   "nbconvert_exporter": "python",
   "pygments_lexer": "ipython3",
   "version": "3.6.2"
  }
 },
 "nbformat": 4,
 "nbformat_minor": 2
}
